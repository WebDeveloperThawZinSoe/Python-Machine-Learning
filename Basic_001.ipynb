{
 "cells": [
  {
   "cell_type": "code",
   "execution_count": null,
   "id": "908bd8af-debb-4208-bf5f-aa767d1ab1c6",
   "metadata": {},
   "outputs": [],
   "source": [
    "import cv2 as cv \n",
    "import numpy as np\n",
    "\n",
    "def main():\n",
    "    img = np.zeros((512,512,3),np.uint8)\n",
    "    cv.line(img,(0,0),(100,200),(255,0,0),2)\n",
    "    cv.imshow(\"black\",img)\n",
    "    cv.waitKey(0)\n",
    "    cv.destoryAllWindows()\n",
    "\n",
    "if __name__ == \"__main__\":\n",
    "    main()"
   ]
  },
  {
   "cell_type": "code",
   "execution_count": 1,
   "id": "81836641-0710-4cf8-992b-cece2303b4ba",
   "metadata": {},
   "outputs": [
    {
     "name": "stdout",
     "output_type": "stream",
     "text": [
      "<class 'numpy.ndarray'>\n",
      "uint8\n",
      "(720, 720, 3)\n",
      "(720, 720)\n"
     ]
    }
   ],
   "source": [
    "import cv2 as cv \n",
    "\n",
    "def main():\n",
    "    img1 = cv.imread(\"images/tzs1.jpeg\",1)\n",
    "    img2 = cv.imread(\"images/tzs1.jpeg\",0)\n",
    "    img3 = cv.imread(\"images/tzs1.jpeg\",-1)\n",
    "    print(type(img1))\n",
    "    print(img1.dtype)\n",
    "    print(img1.shape)\n",
    "    print(img2.shape)\n",
    "\n",
    "if __name__ == \"__main__\":\n",
    "    main()"
   ]
  },
  {
   "cell_type": "code",
   "execution_count": null,
   "id": "ccfdda46-953d-43cb-b462-88895a3a4087",
   "metadata": {},
   "outputs": [],
   "source": [
    "import cv2 as cv \n",
    "\n",
    "img1 = cv.imread(\"images/tzs1.jpeg\",1)\n",
    "img2 = cv.imread(\"images/tzs1.jpeg\",0)\n",
    "img3 = cv.imread(\"images/tzs1.jpeg\",-1)\n",
    "\n",
    "cv.imshow(\"color\",img1)\n",
    "cv.imshow(\"gray\",img2)\n",
    "cv.imshow(\"no_change\",img3)\n",
    "\n",
    "cv.imwrite(\"images/tzs_color.jpg\",img1)\n",
    "cv.imwrite(\"images/tzs_gray.jpg\",img2)\n",
    "cv.imwrite(\"images/tzs_no_color.jpg\",img3)\n",
    "\n",
    "cv.waitKey(0)\n",
    "cv.destoryAllWindows()"
   ]
  },
  {
   "cell_type": "code",
   "execution_count": null,
   "id": "db5f2764-2828-4b7d-ac2f-40e66ba5f4a7",
   "metadata": {},
   "outputs": [],
   "source": [
    "import cv2 as cv \n",
    "\n",
    "img = cv.imread(\"images/tzs1.jpeg\",1)\n",
    "cv.imshow(\"tzs\",img)\n",
    "cv.waitKey(0)\n",
    "cv.destoryAllWindows()"
   ]
  }
 ],
 "metadata": {
  "kernelspec": {
   "display_name": "Python 3 (ipykernel)",
   "language": "python",
   "name": "python3"
  },
  "language_info": {
   "codemirror_mode": {
    "name": "ipython",
    "version": 3
   },
   "file_extension": ".py",
   "mimetype": "text/x-python",
   "name": "python",
   "nbconvert_exporter": "python",
   "pygments_lexer": "ipython3",
   "version": "3.11.5"
  }
 },
 "nbformat": 4,
 "nbformat_minor": 5
}
