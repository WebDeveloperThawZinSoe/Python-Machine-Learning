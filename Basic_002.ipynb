{
 "cells": [
  {
   "cell_type": "code",
   "execution_count": 1,
   "id": "2689bff4-e380-43c3-9f5c-6bde6b7de8b2",
   "metadata": {},
   "outputs": [
    {
     "ename": "IndentationError",
     "evalue": "unexpected indent (1334246514.py, line 16)",
     "output_type": "error",
     "traceback": [
      "\u001b[0;36m  Cell \u001b[0;32mIn[1], line 16\u001b[0;36m\u001b[0m\n\u001b[0;31m    if cv.waitKey(1) ==  27:\u001b[0m\n\u001b[0m    ^\u001b[0m\n\u001b[0;31mIndentationError\u001b[0m\u001b[0;31m:\u001b[0m unexpected indent\n"
     ]
    }
   ],
   "source": [
    "import cv2  as cv\n",
    "import numpy as np\n",
    "\n",
    "img = np.zeros((512,512,3),np.uint8)\n",
    "window = \"Mouse Click Drawing\"\n",
    "cv.namedWindow(window)\n",
    "\n",
    "def draw_circle(event,x,y,flags,params):\n",
    "    print(event)\n",
    "\n",
    "cv.setMouseCallBack(window,draw_circle)\n",
    "\n",
    "def main():\n",
    "    while True:\n",
    "        cv.imshow(window,img)\n",
    "         if cv.waitKey(1) ==  27:\n",
    "            break\n",
    "    cv.destoryAllWindows()\n",
    "\n",
    "if __name__ == \"__main__\":\n",
    "    main()"
   ]
  },
  {
   "cell_type": "code",
   "execution_count": null,
   "id": "f7dcb61b-c0fb-423d-a8f2-c57611773a8d",
   "metadata": {},
   "outputs": [],
   "source": [
    "import cv2 as cv\n",
    "import numpy as np\n",
    "\n",
    "def Bfunc(value):\n",
    "    pass\n",
    "\n",
    "def Gfunc(value):\n",
    "    pass\n",
    "\n",
    "def Rfunc(value):\n",
    "    pass\n",
    "\n",
    "def main():\n",
    "    img = np.zeros((512,512,3),np.uint8)\n",
    "    window = \"Our New Task Bar\"\n",
    "    cv.namedWindow(window)\n",
    "    \n",
    "    cv.createTrackbar(\"B\",window,0,255,Bfunc)\n",
    "    cv.createTrackbar(\"G\",window,0,255,Gfunc)\n",
    "    cv.createTrackbar(\"R\",window,0,255,Rfunc)\n",
    "\n",
    "    while True:\n",
    "        cv.imshow(window,img)\n",
    "\n",
    "        blue  = cv.getTrackbarPos(\"B\",window)\n",
    "        green = cv.getTrackbarPos(\"G\",window)\n",
    "        red = cv.getTrackbarPos(\"R\",window)\n",
    "        img[:] = [blue,green,red]\n",
    "        if cv.waitKey(1) ==  27:\n",
    "            break\n",
    "    cv.destroyAllWindows()\n",
    "\n",
    "\n",
    "if __name__ == \"__main__\":\n",
    "    main()\n"
   ]
  },
  {
   "cell_type": "code",
   "execution_count": null,
   "id": "f39df4e4-bb92-428a-abcf-4fd48a8f172a",
   "metadata": {},
   "outputs": [],
   "source": [
    "import cv2 as cv\n",
    "import numpy as np\n",
    "\n",
    "def Bfunc(value):\n",
    "    pass\n",
    "\n",
    "def Gfunc(value):\n",
    "    pass\n",
    "\n",
    "def Rfunc(value):\n",
    "    pass\n",
    "\n",
    "def main():\n",
    "    img = np.zeros((512, 512, 3), np.uint8)\n",
    "\n",
    "    window = \"Open New Window\"\n",
    "    cv.namedWindow(window)\n",
    "\n",
    "    cv.createTrackbar('B', window, 0, 255, Bfunc)\n",
    "    cv.createTrackbar('G', window, 0, 255, Gfunc)\n",
    "    cv.createTrackbar('R', window, 0, 255, Rfunc)\n",
    "\n",
    "    while True:\n",
    "        cv.imshow(window, img)\n",
    "\n",
    "        blue = cv.getTrackbarPos('B', window)\n",
    "        green = cv.getTrackbarPos('G', window)\n",
    "        red = cv.getTrackbarPos('R', window)\n",
    "        img[:] = [blue, green, red]\n",
    "\n",
    "        if cv.waitKey(1) == 27:\n",
    "            break\n",
    "\n",
    "    cv.destroyAllWindows()\n",
    "\n",
    "if __name__ == \"__main__\":\n",
    "    main()\n"
   ]
  }
 ],
 "metadata": {
  "kernelspec": {
   "display_name": "Python 3 (ipykernel)",
   "language": "python",
   "name": "python3"
  },
  "language_info": {
   "codemirror_mode": {
    "name": "ipython",
    "version": 3
   },
   "file_extension": ".py",
   "mimetype": "text/x-python",
   "name": "python",
   "nbconvert_exporter": "python",
   "pygments_lexer": "ipython3",
   "version": "3.11.5"
  }
 },
 "nbformat": 4,
 "nbformat_minor": 5
}
